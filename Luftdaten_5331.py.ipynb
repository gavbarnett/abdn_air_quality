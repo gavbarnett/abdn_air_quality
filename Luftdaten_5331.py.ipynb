{
 "cells": [
  {
   "cell_type": "markdown",
   "metadata": {},
   "source": [
    "### Import the necessary libraries"
   ]
  },
  {
   "cell_type": "code",
   "execution_count": 111,
   "metadata": {},
   "outputs": [],
   "source": [
    "import glob\n",
    "import pandas as pd"
   ]
  },
  {
   "cell_type": "markdown",
   "metadata": {},
   "source": [
    "### Get the data"
   ]
  },
  {
   "cell_type": "code",
   "execution_count": 124,
   "metadata": {},
   "outputs": [],
   "source": [
    "path =r'data/luftdaten/5331' \n",
    "bf_5331 = pd.concat([pd.read_csv(f, sep=';') for f in glob.glob(path + \"/*.csv\")],\n",
    "                      ignore_index=True)"
   ]
  },
  {
   "cell_type": "markdown",
   "metadata": {},
   "source": [
    "### Start to explore the data"
   ]
  },
  {
   "cell_type": "code",
   "execution_count": 125,
   "metadata": {},
   "outputs": [
    {
     "name": "stdout",
     "output_type": "stream",
     "text": [
      "<class 'pandas.core.frame.DataFrame'>\n",
      "RangeIndex: 125131 entries, 0 to 125130\n",
      "Data columns (total 12 columns):\n",
      "sensor_id      125131 non-null int64\n",
      "sensor_type    125131 non-null object\n",
      "location       125131 non-null int64\n",
      "lat            125131 non-null float64\n",
      "lon            125131 non-null float64\n",
      "timestamp      125131 non-null object\n",
      "P1             125131 non-null float64\n",
      "durP1          0 non-null float64\n",
      "ratioP1        0 non-null float64\n",
      "P2             125131 non-null float64\n",
      "durP2          0 non-null float64\n",
      "ratioP2        0 non-null float64\n",
      "dtypes: float64(8), int64(2), object(2)\n",
      "memory usage: 11.5+ MB\n"
     ]
    }
   ],
   "source": [
    "bf_5331.info()"
   ]
  },
  {
   "cell_type": "markdown",
   "metadata": {},
   "source": [
    "### Look at the first rows"
   ]
  },
  {
   "cell_type": "code",
   "execution_count": 126,
   "metadata": {},
   "outputs": [
    {
     "data": {
      "text/html": [
       "<div>\n",
       "<style scoped>\n",
       "    .dataframe tbody tr th:only-of-type {\n",
       "        vertical-align: middle;\n",
       "    }\n",
       "\n",
       "    .dataframe tbody tr th {\n",
       "        vertical-align: top;\n",
       "    }\n",
       "\n",
       "    .dataframe thead th {\n",
       "        text-align: right;\n",
       "    }\n",
       "</style>\n",
       "<table border=\"1\" class=\"dataframe\">\n",
       "  <thead>\n",
       "    <tr style=\"text-align: right;\">\n",
       "      <th></th>\n",
       "      <th>sensor_id</th>\n",
       "      <th>sensor_type</th>\n",
       "      <th>location</th>\n",
       "      <th>lat</th>\n",
       "      <th>lon</th>\n",
       "      <th>timestamp</th>\n",
       "      <th>P1</th>\n",
       "      <th>durP1</th>\n",
       "      <th>ratioP1</th>\n",
       "      <th>P2</th>\n",
       "      <th>durP2</th>\n",
       "      <th>ratioP2</th>\n",
       "    </tr>\n",
       "  </thead>\n",
       "  <tbody>\n",
       "    <tr>\n",
       "      <th>0</th>\n",
       "      <td>5331</td>\n",
       "      <td>SDS011</td>\n",
       "      <td>3121</td>\n",
       "      <td>57.138</td>\n",
       "      <td>-2.077</td>\n",
       "      <td>2017-11-26T00:00:21</td>\n",
       "      <td>8.43</td>\n",
       "      <td>NaN</td>\n",
       "      <td>NaN</td>\n",
       "      <td>2.87</td>\n",
       "      <td>NaN</td>\n",
       "      <td>NaN</td>\n",
       "    </tr>\n",
       "    <tr>\n",
       "      <th>1</th>\n",
       "      <td>5331</td>\n",
       "      <td>SDS011</td>\n",
       "      <td>3121</td>\n",
       "      <td>57.138</td>\n",
       "      <td>-2.077</td>\n",
       "      <td>2017-11-26T00:02:48</td>\n",
       "      <td>5.50</td>\n",
       "      <td>NaN</td>\n",
       "      <td>NaN</td>\n",
       "      <td>1.80</td>\n",
       "      <td>NaN</td>\n",
       "      <td>NaN</td>\n",
       "    </tr>\n",
       "    <tr>\n",
       "      <th>2</th>\n",
       "      <td>5331</td>\n",
       "      <td>SDS011</td>\n",
       "      <td>3121</td>\n",
       "      <td>57.138</td>\n",
       "      <td>-2.077</td>\n",
       "      <td>2017-11-26T00:05:16</td>\n",
       "      <td>5.87</td>\n",
       "      <td>NaN</td>\n",
       "      <td>NaN</td>\n",
       "      <td>2.30</td>\n",
       "      <td>NaN</td>\n",
       "      <td>NaN</td>\n",
       "    </tr>\n",
       "    <tr>\n",
       "      <th>3</th>\n",
       "      <td>5331</td>\n",
       "      <td>SDS011</td>\n",
       "      <td>3121</td>\n",
       "      <td>57.138</td>\n",
       "      <td>-2.077</td>\n",
       "      <td>2017-11-26T00:07:43</td>\n",
       "      <td>9.70</td>\n",
       "      <td>NaN</td>\n",
       "      <td>NaN</td>\n",
       "      <td>2.40</td>\n",
       "      <td>NaN</td>\n",
       "      <td>NaN</td>\n",
       "    </tr>\n",
       "    <tr>\n",
       "      <th>4</th>\n",
       "      <td>5331</td>\n",
       "      <td>SDS011</td>\n",
       "      <td>3121</td>\n",
       "      <td>57.138</td>\n",
       "      <td>-2.077</td>\n",
       "      <td>2017-11-26T00:10:11</td>\n",
       "      <td>13.33</td>\n",
       "      <td>NaN</td>\n",
       "      <td>NaN</td>\n",
       "      <td>1.73</td>\n",
       "      <td>NaN</td>\n",
       "      <td>NaN</td>\n",
       "    </tr>\n",
       "  </tbody>\n",
       "</table>\n",
       "</div>"
      ],
      "text/plain": [
       "   sensor_id sensor_type  location     lat    lon            timestamp     P1  \\\n",
       "0       5331      SDS011      3121  57.138 -2.077  2017-11-26T00:00:21   8.43   \n",
       "1       5331      SDS011      3121  57.138 -2.077  2017-11-26T00:02:48   5.50   \n",
       "2       5331      SDS011      3121  57.138 -2.077  2017-11-26T00:05:16   5.87   \n",
       "3       5331      SDS011      3121  57.138 -2.077  2017-11-26T00:07:43   9.70   \n",
       "4       5331      SDS011      3121  57.138 -2.077  2017-11-26T00:10:11  13.33   \n",
       "\n",
       "   durP1  ratioP1    P2  durP2  ratioP2  \n",
       "0    NaN      NaN  2.87    NaN      NaN  \n",
       "1    NaN      NaN  1.80    NaN      NaN  \n",
       "2    NaN      NaN  2.30    NaN      NaN  \n",
       "3    NaN      NaN  2.40    NaN      NaN  \n",
       "4    NaN      NaN  1.73    NaN      NaN  "
      ]
     },
     "execution_count": 126,
     "metadata": {},
     "output_type": "execute_result"
    }
   ],
   "source": [
    "bf_5331.head()"
   ]
  },
  {
   "cell_type": "markdown",
   "metadata": {},
   "source": [
    "### What is the structure like? "
   ]
  },
  {
   "cell_type": "code",
   "execution_count": 127,
   "metadata": {},
   "outputs": [
    {
     "name": "stdout",
     "output_type": "stream",
     "text": [
      "((125131, 12), sensor_id                                               [[5331]]\n",
      "sensor_type                                           [[SDS011]]\n",
      "location                                          [[3121, 2688]]\n",
      "lat                               [[57.138000000000005, 57.128]]\n",
      "lon                                            [[-2.077, -2.13]]\n",
      "timestamp      [[2017-11-26T00:00:21, 2017-11-26T00:02:48, 20...\n",
      "P1             [[8.43, 5.5, 5.87, 9.7, 13.33, 4.53, 4.5, 6.8,...\n",
      "durP1                                                    [[nan]]\n",
      "ratioP1                                                  [[nan]]\n",
      "P2             [[2.87, 1.8, 2.3, 2.4, 1.73, 1.27, 1.63, 1.9, ...\n",
      "durP2                                                    [[nan]]\n",
      "ratioP2                                                  [[nan]]\n",
      "dtype: object)\n"
     ]
    }
   ],
   "source": [
    "# this provides a rough equivalent of the R str() function:\n",
    "\n",
    "def rstr(df): return df.shape, df.apply(lambda x: [x.unique()])\n",
    "\n",
    "print(rstr(bf_5331))"
   ]
  },
  {
   "cell_type": "markdown",
   "metadata": {},
   "source": [
    "## Drop columns with no values"
   ]
  },
  {
   "cell_type": "code",
   "execution_count": 128,
   "metadata": {},
   "outputs": [],
   "source": [
    "bf_5331_nona = bf_5331.dropna(axis=1, how='all')"
   ]
  },
  {
   "cell_type": "code",
   "execution_count": 129,
   "metadata": {},
   "outputs": [
    {
     "name": "stdout",
     "output_type": "stream",
     "text": [
      "((125131, 8), sensor_id                                               [[5331]]\n",
      "sensor_type                                           [[SDS011]]\n",
      "location                                          [[3121, 2688]]\n",
      "lat                               [[57.138000000000005, 57.128]]\n",
      "lon                                            [[-2.077, -2.13]]\n",
      "timestamp      [[2017-11-26T00:00:21, 2017-11-26T00:02:48, 20...\n",
      "P1             [[8.43, 5.5, 5.87, 9.7, 13.33, 4.53, 4.5, 6.8,...\n",
      "P2             [[2.87, 1.8, 2.3, 2.4, 1.73, 1.27, 1.63, 1.9, ...\n",
      "dtype: object)\n"
     ]
    }
   ],
   "source": [
    "print(rstr(bf_5331_nona))"
   ]
  },
  {
   "cell_type": "markdown",
   "metadata": {},
   "source": [
    "<span style=\"color:blue\">Note that, in the cell above, 3 values change (location, lat, long). Was the sensor moved?</span> "
   ]
  },
  {
   "cell_type": "markdown",
   "metadata": {},
   "source": [
    "Assuming for now that the sensor is stationary, we drop the columns which should not vary from reading to reading"
   ]
  },
  {
   "cell_type": "code",
   "execution_count": 131,
   "metadata": {},
   "outputs": [],
   "source": [
    "bf_5331_nona_trim = bf_5331_nona.drop(['sensor_id','location','sensor_type','lat','lon'],axis=1)"
   ]
  },
  {
   "cell_type": "markdown",
   "metadata": {},
   "source": [
    "### Run a command to emulate str() in R. "
   ]
  },
  {
   "cell_type": "code",
   "execution_count": 132,
   "metadata": {},
   "outputs": [
    {
     "name": "stdout",
     "output_type": "stream",
     "text": [
      "((125131, 3), timestamp    [[2017-11-26T00:00:21, 2017-11-26T00:02:48, 20...\n",
      "P1           [[8.43, 5.5, 5.87, 9.7, 13.33, 4.53, 4.5, 6.8,...\n",
      "P2           [[2.87, 1.8, 2.3, 2.4, 1.73, 1.27, 1.63, 1.9, ...\n",
      "dtype: object)\n"
     ]
    }
   ],
   "source": [
    "print(rstr(bf_5331_nona_trim))"
   ]
  },
  {
   "cell_type": "code",
   "execution_count": 135,
   "metadata": {},
   "outputs": [],
   "source": [
    "max_5331_p1 = bf_5331_nona_trim[bf_5331_nona_trim['P1']==bf_5331_nona_trim['P1'].max()]\n",
    "min_5331_p1 = bf_5331_nona_trim[bf_5331_nona_trim['P1']==bf_5331_nona_trim['P1'].min()]\n",
    "\n",
    "max_5331_p2 = bf_5331_nona_trim[bf_5331_nona_trim['P2']==bf_5331_nona_trim['P2'].max()]\n",
    "min_5331_p2 = bf_5331_nona_trim[bf_5331_nona_trim['P2']==bf_5331_nona_trim['P2'].min()]"
   ]
  },
  {
   "cell_type": "code",
   "execution_count": 142,
   "metadata": {},
   "outputs": [
    {
     "name": "stdout",
     "output_type": "stream",
     "text": [
      "Max P1\n",
      "                 timestamp      P1      P2\n",
      "90942  2018-02-05T15:29:20  1999.9  691.83\n",
      "\n",
      "Min P1\n",
      "                  timestamp   P1    P2\n",
      "57750   2017-12-25T06:48:26  0.5  0.50\n",
      "79320   2018-04-23T14:04:33  0.5  0.50\n",
      "79322   2018-04-23T14:09:29  0.5  0.50\n",
      "86514   2018-04-24T00:08:11  0.5  0.50\n",
      "86521   2018-04-24T00:25:23  0.5  0.50\n",
      "86523   2018-04-24T00:30:19  0.5  0.50\n",
      "95978   2018-04-22T15:48:19  0.5  0.50\n",
      "96004   2018-04-22T16:52:33  0.5  0.50\n",
      "96018   2018-04-22T17:27:05  0.5  0.50\n",
      "96031   2018-04-22T17:59:05  0.5  0.50\n",
      "98525   2018-01-29T02:32:51  0.5  0.50\n",
      "98544   2018-01-29T03:19:35  0.5  0.50\n",
      "98553   2018-01-29T03:41:44  0.5  0.50\n",
      "98555   2018-01-29T03:46:39  0.5  0.50\n",
      "98557   2018-01-29T03:51:34  0.5  0.50\n",
      "98567   2018-01-29T04:16:10  0.5  0.50\n",
      "98572   2018-01-29T04:28:27  0.5  0.50\n",
      "107208  2017-12-23T02:03:53  0.5  0.50\n",
      "107211  2017-12-23T02:11:16  0.5  0.50\n",
      "107213  2017-12-23T02:16:11  0.5  0.50\n",
      "107215  2017-12-23T02:21:06  0.5  0.50\n",
      "107220  2017-12-23T02:33:24  0.5  0.50\n",
      "107222  2017-12-23T02:38:19  0.5  0.50\n",
      "107227  2017-12-23T02:50:39  0.5  0.50\n",
      "107258  2017-12-23T04:06:55  0.5  0.50\n",
      "107261  2017-12-23T04:14:18  0.5  0.50\n",
      "107278  2017-12-23T04:56:10  0.5  0.50\n",
      "107289  2017-12-23T05:23:13  0.5  0.50\n",
      "107291  2017-12-23T05:28:08  0.5  0.50\n",
      "107294  2017-12-23T05:35:31  0.5  0.40\n",
      "118995  2018-04-26T08:07:31  0.5  0.50\n",
      "119000  2018-04-26T08:19:50  0.5  0.50\n",
      "119018  2018-04-26T09:04:07  0.5  0.50\n",
      "119086  2018-04-26T11:51:30  0.5  0.50\n",
      "119133  2018-04-26T13:47:09  0.5  0.43\n",
      "\n",
      "Max P2\n",
      "                 timestamp      P1      P2\n",
      "90942  2018-02-05T15:29:20  1999.9  691.83\n",
      "\n",
      "Min P2\n",
      "                  timestamp   P1   P2\n",
      "79288   2018-04-23T12:45:37  0.6  0.4\n",
      "107294  2017-12-23T05:35:31  0.5  0.4\n"
     ]
    }
   ],
   "source": [
    "print (\"Max P1\")\n",
    "print (max_5331_p1)\n",
    "\n",
    "print (\"\\nMin P1\")\n",
    "print (min_5331_p1)\n",
    "\n",
    "print (\"\\nMax P2\")\n",
    "print (max_5331_p2)\n",
    "\n",
    "print (\"\\nMin P2\")\n",
    "print (min_5331_p2)"
   ]
  },
  {
   "cell_type": "code",
   "execution_count": null,
   "metadata": {},
   "outputs": [],
   "source": []
  }
 ],
 "metadata": {
  "kernelspec": {
   "display_name": "Python 3",
   "language": "python",
   "name": "python3"
  },
  "language_info": {
   "codemirror_mode": {
    "name": "ipython",
    "version": 3
   },
   "file_extension": ".py",
   "mimetype": "text/x-python",
   "name": "python",
   "nbconvert_exporter": "python",
   "pygments_lexer": "ipython3",
   "version": "3.6.4"
  }
 },
 "nbformat": 4,
 "nbformat_minor": 2
}
