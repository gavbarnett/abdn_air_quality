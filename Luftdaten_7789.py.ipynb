{
 "cells": [
  {
   "cell_type": "markdown",
   "metadata": {},
   "source": [
    "### Import the necessary libraries"
   ]
  },
  {
   "cell_type": "code",
   "execution_count": 1,
   "metadata": {},
   "outputs": [],
   "source": [
    "import glob\n",
    "import pandas as pd"
   ]
  },
  {
   "cell_type": "markdown",
   "metadata": {},
   "source": [
    "### Get the data"
   ]
  },
  {
   "cell_type": "code",
   "execution_count": 2,
   "metadata": {},
   "outputs": [],
   "source": [
    "path =r'data/luftdaten/7789' \n",
    "bf_7789 = pd.concat([pd.read_csv(f, sep=';') for f in glob.glob(path + \"/*.csv\")],\n",
    "                      ignore_index=True)"
   ]
  },
  {
   "cell_type": "markdown",
   "metadata": {},
   "source": [
    "### Start to explore the data"
   ]
  },
  {
   "cell_type": "code",
   "execution_count": 3,
   "metadata": {},
   "outputs": [
    {
     "name": "stdout",
     "output_type": "stream",
     "text": [
      "<class 'pandas.core.frame.DataFrame'>\n",
      "RangeIndex: 84808 entries, 0 to 84807\n",
      "Data columns (total 12 columns):\n",
      "sensor_id      84808 non-null int64\n",
      "sensor_type    84808 non-null object\n",
      "location       84808 non-null int64\n",
      "lat            84808 non-null float64\n",
      "lon            84808 non-null float64\n",
      "timestamp      84808 non-null object\n",
      "P1             84808 non-null float64\n",
      "durP1          0 non-null float64\n",
      "ratioP1        0 non-null float64\n",
      "P2             84808 non-null float64\n",
      "durP2          0 non-null float64\n",
      "ratioP2        0 non-null float64\n",
      "dtypes: float64(8), int64(2), object(2)\n",
      "memory usage: 7.8+ MB\n"
     ]
    }
   ],
   "source": [
    "bf_7789.info()"
   ]
  },
  {
   "cell_type": "markdown",
   "metadata": {},
   "source": [
    "### Look at the first rows"
   ]
  },
  {
   "cell_type": "code",
   "execution_count": 96,
   "metadata": {},
   "outputs": [
    {
     "data": {
      "text/html": [
       "<div>\n",
       "<style scoped>\n",
       "    .dataframe tbody tr th:only-of-type {\n",
       "        vertical-align: middle;\n",
       "    }\n",
       "\n",
       "    .dataframe tbody tr th {\n",
       "        vertical-align: top;\n",
       "    }\n",
       "\n",
       "    .dataframe thead th {\n",
       "        text-align: right;\n",
       "    }\n",
       "</style>\n",
       "<table border=\"1\" class=\"dataframe\">\n",
       "  <thead>\n",
       "    <tr style=\"text-align: right;\">\n",
       "      <th></th>\n",
       "      <th>sensor_id</th>\n",
       "      <th>sensor_type</th>\n",
       "      <th>location</th>\n",
       "      <th>lat</th>\n",
       "      <th>lon</th>\n",
       "      <th>timestamp</th>\n",
       "      <th>P1</th>\n",
       "      <th>durP1</th>\n",
       "      <th>ratioP1</th>\n",
       "      <th>P2</th>\n",
       "      <th>durP2</th>\n",
       "      <th>ratioP2</th>\n",
       "    </tr>\n",
       "  </thead>\n",
       "  <tbody>\n",
       "    <tr>\n",
       "      <th>84803</th>\n",
       "      <td>7789</td>\n",
       "      <td>SDS011</td>\n",
       "      <td>3939</td>\n",
       "      <td>57.13</td>\n",
       "      <td>-2.087</td>\n",
       "      <td>2018-02-16T23:48:53</td>\n",
       "      <td>15.30</td>\n",
       "      <td>NaN</td>\n",
       "      <td>NaN</td>\n",
       "      <td>2.67</td>\n",
       "      <td>NaN</td>\n",
       "      <td>NaN</td>\n",
       "    </tr>\n",
       "    <tr>\n",
       "      <th>84804</th>\n",
       "      <td>7789</td>\n",
       "      <td>SDS011</td>\n",
       "      <td>3939</td>\n",
       "      <td>57.13</td>\n",
       "      <td>-2.087</td>\n",
       "      <td>2018-02-16T23:51:20</td>\n",
       "      <td>17.27</td>\n",
       "      <td>NaN</td>\n",
       "      <td>NaN</td>\n",
       "      <td>2.97</td>\n",
       "      <td>NaN</td>\n",
       "      <td>NaN</td>\n",
       "    </tr>\n",
       "    <tr>\n",
       "      <th>84805</th>\n",
       "      <td>7789</td>\n",
       "      <td>SDS011</td>\n",
       "      <td>3939</td>\n",
       "      <td>57.13</td>\n",
       "      <td>-2.087</td>\n",
       "      <td>2018-02-16T23:53:47</td>\n",
       "      <td>17.57</td>\n",
       "      <td>NaN</td>\n",
       "      <td>NaN</td>\n",
       "      <td>2.67</td>\n",
       "      <td>NaN</td>\n",
       "      <td>NaN</td>\n",
       "    </tr>\n",
       "    <tr>\n",
       "      <th>84806</th>\n",
       "      <td>7789</td>\n",
       "      <td>SDS011</td>\n",
       "      <td>3939</td>\n",
       "      <td>57.13</td>\n",
       "      <td>-2.087</td>\n",
       "      <td>2018-02-16T23:56:14</td>\n",
       "      <td>13.60</td>\n",
       "      <td>NaN</td>\n",
       "      <td>NaN</td>\n",
       "      <td>2.83</td>\n",
       "      <td>NaN</td>\n",
       "      <td>NaN</td>\n",
       "    </tr>\n",
       "    <tr>\n",
       "      <th>84807</th>\n",
       "      <td>7789</td>\n",
       "      <td>SDS011</td>\n",
       "      <td>3939</td>\n",
       "      <td>57.13</td>\n",
       "      <td>-2.087</td>\n",
       "      <td>2018-02-16T23:58:41</td>\n",
       "      <td>24.97</td>\n",
       "      <td>NaN</td>\n",
       "      <td>NaN</td>\n",
       "      <td>2.87</td>\n",
       "      <td>NaN</td>\n",
       "      <td>NaN</td>\n",
       "    </tr>\n",
       "  </tbody>\n",
       "</table>\n",
       "</div>"
      ],
      "text/plain": [
       "       sensor_id sensor_type  location    lat    lon            timestamp  \\\n",
       "84803       7789      SDS011      3939  57.13 -2.087  2018-02-16T23:48:53   \n",
       "84804       7789      SDS011      3939  57.13 -2.087  2018-02-16T23:51:20   \n",
       "84805       7789      SDS011      3939  57.13 -2.087  2018-02-16T23:53:47   \n",
       "84806       7789      SDS011      3939  57.13 -2.087  2018-02-16T23:56:14   \n",
       "84807       7789      SDS011      3939  57.13 -2.087  2018-02-16T23:58:41   \n",
       "\n",
       "          P1  durP1  ratioP1    P2  durP2  ratioP2  \n",
       "84803  15.30    NaN      NaN  2.67    NaN      NaN  \n",
       "84804  17.27    NaN      NaN  2.97    NaN      NaN  \n",
       "84805  17.57    NaN      NaN  2.67    NaN      NaN  \n",
       "84806  13.60    NaN      NaN  2.83    NaN      NaN  \n",
       "84807  24.97    NaN      NaN  2.87    NaN      NaN  "
      ]
     },
     "execution_count": 96,
     "metadata": {},
     "output_type": "execute_result"
    }
   ],
   "source": [
    "bf_7789.head()"
   ]
  },
  {
   "cell_type": "markdown",
   "metadata": {},
   "source": [
    "### Look at the last rows"
   ]
  },
  {
   "cell_type": "code",
   "execution_count": 97,
   "metadata": {},
   "outputs": [
    {
     "data": {
      "text/html": [
       "<div>\n",
       "<style scoped>\n",
       "    .dataframe tbody tr th:only-of-type {\n",
       "        vertical-align: middle;\n",
       "    }\n",
       "\n",
       "    .dataframe tbody tr th {\n",
       "        vertical-align: top;\n",
       "    }\n",
       "\n",
       "    .dataframe thead th {\n",
       "        text-align: right;\n",
       "    }\n",
       "</style>\n",
       "<table border=\"1\" class=\"dataframe\">\n",
       "  <thead>\n",
       "    <tr style=\"text-align: right;\">\n",
       "      <th></th>\n",
       "      <th>sensor_id</th>\n",
       "      <th>sensor_type</th>\n",
       "      <th>location</th>\n",
       "      <th>lat</th>\n",
       "      <th>lon</th>\n",
       "      <th>timestamp</th>\n",
       "      <th>P1</th>\n",
       "      <th>durP1</th>\n",
       "      <th>ratioP1</th>\n",
       "      <th>P2</th>\n",
       "      <th>durP2</th>\n",
       "      <th>ratioP2</th>\n",
       "    </tr>\n",
       "  </thead>\n",
       "  <tbody>\n",
       "    <tr>\n",
       "      <th>84803</th>\n",
       "      <td>7789</td>\n",
       "      <td>SDS011</td>\n",
       "      <td>3939</td>\n",
       "      <td>57.13</td>\n",
       "      <td>-2.087</td>\n",
       "      <td>2018-02-16T23:48:53</td>\n",
       "      <td>15.30</td>\n",
       "      <td>NaN</td>\n",
       "      <td>NaN</td>\n",
       "      <td>2.67</td>\n",
       "      <td>NaN</td>\n",
       "      <td>NaN</td>\n",
       "    </tr>\n",
       "    <tr>\n",
       "      <th>84804</th>\n",
       "      <td>7789</td>\n",
       "      <td>SDS011</td>\n",
       "      <td>3939</td>\n",
       "      <td>57.13</td>\n",
       "      <td>-2.087</td>\n",
       "      <td>2018-02-16T23:51:20</td>\n",
       "      <td>17.27</td>\n",
       "      <td>NaN</td>\n",
       "      <td>NaN</td>\n",
       "      <td>2.97</td>\n",
       "      <td>NaN</td>\n",
       "      <td>NaN</td>\n",
       "    </tr>\n",
       "    <tr>\n",
       "      <th>84805</th>\n",
       "      <td>7789</td>\n",
       "      <td>SDS011</td>\n",
       "      <td>3939</td>\n",
       "      <td>57.13</td>\n",
       "      <td>-2.087</td>\n",
       "      <td>2018-02-16T23:53:47</td>\n",
       "      <td>17.57</td>\n",
       "      <td>NaN</td>\n",
       "      <td>NaN</td>\n",
       "      <td>2.67</td>\n",
       "      <td>NaN</td>\n",
       "      <td>NaN</td>\n",
       "    </tr>\n",
       "    <tr>\n",
       "      <th>84806</th>\n",
       "      <td>7789</td>\n",
       "      <td>SDS011</td>\n",
       "      <td>3939</td>\n",
       "      <td>57.13</td>\n",
       "      <td>-2.087</td>\n",
       "      <td>2018-02-16T23:56:14</td>\n",
       "      <td>13.60</td>\n",
       "      <td>NaN</td>\n",
       "      <td>NaN</td>\n",
       "      <td>2.83</td>\n",
       "      <td>NaN</td>\n",
       "      <td>NaN</td>\n",
       "    </tr>\n",
       "    <tr>\n",
       "      <th>84807</th>\n",
       "      <td>7789</td>\n",
       "      <td>SDS011</td>\n",
       "      <td>3939</td>\n",
       "      <td>57.13</td>\n",
       "      <td>-2.087</td>\n",
       "      <td>2018-02-16T23:58:41</td>\n",
       "      <td>24.97</td>\n",
       "      <td>NaN</td>\n",
       "      <td>NaN</td>\n",
       "      <td>2.87</td>\n",
       "      <td>NaN</td>\n",
       "      <td>NaN</td>\n",
       "    </tr>\n",
       "  </tbody>\n",
       "</table>\n",
       "</div>"
      ],
      "text/plain": [
       "       sensor_id sensor_type  location    lat    lon            timestamp  \\\n",
       "84803       7789      SDS011      3939  57.13 -2.087  2018-02-16T23:48:53   \n",
       "84804       7789      SDS011      3939  57.13 -2.087  2018-02-16T23:51:20   \n",
       "84805       7789      SDS011      3939  57.13 -2.087  2018-02-16T23:53:47   \n",
       "84806       7789      SDS011      3939  57.13 -2.087  2018-02-16T23:56:14   \n",
       "84807       7789      SDS011      3939  57.13 -2.087  2018-02-16T23:58:41   \n",
       "\n",
       "          P1  durP1  ratioP1    P2  durP2  ratioP2  \n",
       "84803  15.30    NaN      NaN  2.67    NaN      NaN  \n",
       "84804  17.27    NaN      NaN  2.97    NaN      NaN  \n",
       "84805  17.57    NaN      NaN  2.67    NaN      NaN  \n",
       "84806  13.60    NaN      NaN  2.83    NaN      NaN  \n",
       "84807  24.97    NaN      NaN  2.87    NaN      NaN  "
      ]
     },
     "execution_count": 97,
     "metadata": {},
     "output_type": "execute_result"
    }
   ],
   "source": [
    "bf_7789.tail()"
   ]
  },
  {
   "cell_type": "markdown",
   "metadata": {},
   "source": [
    "### What is the structure like? "
   ]
  },
  {
   "cell_type": "code",
   "execution_count": 5,
   "metadata": {},
   "outputs": [
    {
     "name": "stdout",
     "output_type": "stream",
     "text": [
      "((84808, 12), sensor_id                                               [[7789]]\n",
      "sensor_type                                           [[SDS011]]\n",
      "location                                                [[3939]]\n",
      "lat                                                    [[57.13]]\n",
      "lon                                      [[-2.0869999999999997]]\n",
      "timestamp      [[2018-05-07T00:01:23, 2018-05-07T00:03:50, 20...\n",
      "P1             [[3.17, 2.9, 3.37, 5.37, 5.03, 4.9, 3.0, 5.53,...\n",
      "durP1                                                    [[nan]]\n",
      "ratioP1                                                  [[nan]]\n",
      "P2             [[2.6, 2.57, 2.5, 2.77, 2.67, 2.3, 2.53, 2.93,...\n",
      "durP2                                                    [[nan]]\n",
      "ratioP2                                                  [[nan]]\n",
      "dtype: object)\n"
     ]
    }
   ],
   "source": [
    "# this provides a rough equivalent of the R str() function:\n",
    "\n",
    "def rstr(df): return df.shape, df.apply(lambda x: [x.unique()])\n",
    "\n",
    "print(rstr(bf_7789))"
   ]
  },
  {
   "cell_type": "markdown",
   "metadata": {},
   "source": [
    "## Drop columns with no values"
   ]
  },
  {
   "cell_type": "code",
   "execution_count": 6,
   "metadata": {},
   "outputs": [],
   "source": [
    "bf_7789_nona = bf_7789.dropna(axis=1, how='all')"
   ]
  },
  {
   "cell_type": "code",
   "execution_count": 7,
   "metadata": {},
   "outputs": [
    {
     "name": "stdout",
     "output_type": "stream",
     "text": [
      "((84808, 8), sensor_id                                               [[7789]]\n",
      "sensor_type                                           [[SDS011]]\n",
      "location                                                [[3939]]\n",
      "lat                                                    [[57.13]]\n",
      "lon                                      [[-2.0869999999999997]]\n",
      "timestamp      [[2018-05-07T00:01:23, 2018-05-07T00:03:50, 20...\n",
      "P1             [[3.17, 2.9, 3.37, 5.37, 5.03, 4.9, 3.0, 5.53,...\n",
      "P2             [[2.6, 2.57, 2.5, 2.77, 2.67, 2.3, 2.53, 2.93,...\n",
      "dtype: object)\n"
     ]
    }
   ],
   "source": [
    "print(rstr(bf_7789_nona))"
   ]
  },
  {
   "cell_type": "code",
   "execution_count": 8,
   "metadata": {},
   "outputs": [],
   "source": [
    "bf_7789_nona_trim = bf_7789_nona.drop(['sensor_id','location','sensor_type','lat','lon'],axis=1)"
   ]
  },
  {
   "cell_type": "code",
   "execution_count": 9,
   "metadata": {},
   "outputs": [
    {
     "name": "stdout",
     "output_type": "stream",
     "text": [
      "((84808, 3), timestamp    [[2018-05-07T00:01:23, 2018-05-07T00:03:50, 20...\n",
      "P1           [[3.17, 2.9, 3.37, 5.37, 5.03, 4.9, 3.0, 5.53,...\n",
      "P2           [[2.6, 2.57, 2.5, 2.77, 2.67, 2.3, 2.53, 2.93,...\n",
      "dtype: object)\n"
     ]
    }
   ],
   "source": [
    "print(rstr(bf_7789_nona_trim))"
   ]
  },
  {
   "cell_type": "code",
   "execution_count": 10,
   "metadata": {},
   "outputs": [],
   "source": [
    "max_7789_p1 = bf_7789_nona_trim[bf_7789_nona_trim['P1']==bf_7789_nona_trim['P1'].max()]\n",
    "min_7789_p1 = bf_7789_nona_trim[bf_7789_nona_trim['P1']==bf_7789_nona_trim['P1'].min()]\n",
    "\n",
    "max_7789_p2 = bf_7789_nona_trim[bf_7789_nona_trim['P2']==bf_7789_nona_trim['P2'].max()]\n",
    "min_7789_p2 = bf_7789_nona_trim[bf_7789_nona_trim['P2']==bf_7789_nona_trim['P2'].min()]"
   ]
  },
  {
   "cell_type": "code",
   "execution_count": 11,
   "metadata": {},
   "outputs": [
    {
     "name": "stdout",
     "output_type": "stream",
     "text": [
      "Max P1\n",
      "                 timestamp      P1     P2\n",
      "57134  2018-05-13T06:37:45  620.03  56.43\n",
      "\n",
      "Min P1\n",
      "                 timestamp   P1   P2\n",
      "7454   2018-01-28T23:37:38  0.0  0.0\n",
      "20461  2018-03-23T15:20:45  0.0  0.0\n",
      "20467  2018-03-23T15:35:25  0.0  0.0\n",
      "20469  2018-03-23T15:40:20  0.0  0.0\n",
      "20492  2018-03-23T16:36:40  0.0  0.0\n",
      "20802  2017-12-25T05:59:39  0.0  0.0\n",
      "30005  2017-12-24T02:07:26  0.0  0.0\n",
      "30007  2017-12-24T02:14:52  0.0  0.0\n",
      "37430  2017-12-23T01:20:28  0.0  0.0\n",
      "37443  2017-12-23T01:57:37  0.0  0.0\n",
      "37445  2017-12-23T02:02:31  0.0  0.0\n",
      "37449  2017-12-23T02:12:18  0.0  0.0\n",
      "37450  2017-12-23T02:14:44  0.0  0.0\n",
      "37451  2017-12-23T02:17:11  0.0  0.0\n",
      "37453  2017-12-23T02:22:05  0.0  0.0\n",
      "37455  2017-12-23T02:26:58  0.0  0.0\n",
      "37456  2017-12-23T02:32:11  0.0  0.0\n",
      "37457  2017-12-23T02:37:26  0.0  0.0\n",
      "37458  2017-12-23T02:39:53  0.0  0.0\n",
      "37460  2017-12-23T02:44:47  0.0  0.0\n",
      "37461  2017-12-23T02:47:14  0.0  0.0\n",
      "37463  2017-12-23T02:52:07  0.0  0.0\n",
      "37465  2017-12-23T02:57:01  0.0  0.0\n",
      "37466  2017-12-23T02:59:28  0.0  0.0\n",
      "37467  2017-12-23T03:01:54  0.0  0.0\n",
      "37470  2017-12-23T03:09:15  0.0  0.0\n",
      "37473  2017-12-23T03:16:35  0.0  0.0\n",
      "37475  2017-12-23T03:21:29  0.0  0.0\n",
      "37476  2017-12-23T03:23:56  0.0  0.0\n",
      "37477  2017-12-23T03:26:22  0.0  0.0\n",
      "...                    ...  ...  ...\n",
      "37505  2017-12-23T04:37:50  0.0  0.0\n",
      "37507  2017-12-23T04:42:44  0.0  0.0\n",
      "37509  2017-12-23T04:47:39  0.0  0.0\n",
      "37512  2017-12-23T04:54:59  0.0  0.0\n",
      "37514  2017-12-23T05:05:25  0.0  0.0\n",
      "37515  2017-12-23T05:07:51  0.0  0.0\n",
      "37519  2017-12-23T05:17:38  0.0  0.0\n",
      "37521  2017-12-23T05:22:32  0.0  0.0\n",
      "37522  2017-12-23T05:24:59  0.0  0.0\n",
      "37524  2017-12-23T05:29:52  0.0  0.0\n",
      "37531  2017-12-23T05:47:00  0.0  0.0\n",
      "44316  2018-01-29T01:20:25  0.0  0.0\n",
      "44352  2018-01-29T02:48:30  0.0  0.0\n",
      "44355  2018-01-29T02:55:51  0.0  0.0\n",
      "44358  2018-01-29T03:03:11  0.0  0.0\n",
      "44363  2018-01-29T03:15:25  0.0  0.0\n",
      "44364  2018-01-29T03:17:52  0.0  0.0\n",
      "44366  2018-01-29T03:22:45  0.0  0.0\n",
      "44368  2018-01-29T03:27:39  0.0  0.0\n",
      "44374  2018-01-29T03:42:23  0.0  0.0\n",
      "44391  2018-01-29T04:23:59  0.0  0.0\n",
      "44399  2018-01-29T04:43:34  0.0  0.0\n",
      "44406  2018-01-29T05:00:42  0.0  0.0\n",
      "44420  2018-01-29T05:34:59  0.0  0.0\n",
      "44422  2018-01-29T05:39:56  0.0  0.0\n",
      "44423  2018-01-29T05:42:23  0.0  0.0\n",
      "44439  2018-01-29T06:21:32  0.0  0.0\n",
      "46225  2018-04-22T16:50:06  0.0  0.0\n",
      "46237  2018-04-22T17:19:30  0.0  0.0\n",
      "46244  2018-04-22T17:36:37  0.0  0.0\n",
      "\n",
      "[71 rows x 3 columns]\n",
      "\n",
      "Max P2\n",
      "                 timestamp      P1      P2\n",
      "79347  2018-05-12T16:20:16  493.53  162.03\n",
      "\n",
      "Min P2\n",
      "                 timestamp    P1   P2\n",
      "7405   2018-01-28T21:37:41  0.10  0.0\n",
      "7454   2018-01-28T23:37:38  0.00  0.0\n",
      "20461  2018-03-23T15:20:45  0.00  0.0\n",
      "20467  2018-03-23T15:35:25  0.00  0.0\n",
      "20469  2018-03-23T15:40:20  0.00  0.0\n",
      "20492  2018-03-23T16:36:40  0.00  0.0\n",
      "20802  2017-12-25T05:59:39  0.00  0.0\n",
      "30005  2017-12-24T02:07:26  0.00  0.0\n",
      "30007  2017-12-24T02:14:52  0.00  0.0\n",
      "37430  2017-12-23T01:20:28  0.00  0.0\n",
      "37443  2017-12-23T01:57:37  0.00  0.0\n",
      "37445  2017-12-23T02:02:31  0.00  0.0\n",
      "37449  2017-12-23T02:12:18  0.00  0.0\n",
      "37450  2017-12-23T02:14:44  0.00  0.0\n",
      "37451  2017-12-23T02:17:11  0.00  0.0\n",
      "37453  2017-12-23T02:22:05  0.00  0.0\n",
      "37455  2017-12-23T02:26:58  0.00  0.0\n",
      "37456  2017-12-23T02:32:11  0.00  0.0\n",
      "37457  2017-12-23T02:37:26  0.00  0.0\n",
      "37458  2017-12-23T02:39:53  0.00  0.0\n",
      "37460  2017-12-23T02:44:47  0.00  0.0\n",
      "37461  2017-12-23T02:47:14  0.00  0.0\n",
      "37463  2017-12-23T02:52:07  0.00  0.0\n",
      "37464  2017-12-23T02:54:34  0.07  0.0\n",
      "37465  2017-12-23T02:57:01  0.00  0.0\n",
      "37466  2017-12-23T02:59:28  0.00  0.0\n",
      "37467  2017-12-23T03:01:54  0.00  0.0\n",
      "37470  2017-12-23T03:09:15  0.00  0.0\n",
      "37473  2017-12-23T03:16:35  0.00  0.0\n",
      "37475  2017-12-23T03:21:29  0.00  0.0\n",
      "...                    ...   ...  ...\n",
      "37516  2017-12-23T05:10:18  0.10  0.0\n",
      "37519  2017-12-23T05:17:38  0.00  0.0\n",
      "37520  2017-12-23T05:20:05  0.20  0.0\n",
      "37521  2017-12-23T05:22:32  0.00  0.0\n",
      "37522  2017-12-23T05:24:59  0.00  0.0\n",
      "37524  2017-12-23T05:29:52  0.00  0.0\n",
      "37525  2017-12-23T05:32:19  1.13  0.0\n",
      "37531  2017-12-23T05:47:00  0.00  0.0\n",
      "44316  2018-01-29T01:20:25  0.00  0.0\n",
      "44352  2018-01-29T02:48:30  0.00  0.0\n",
      "44355  2018-01-29T02:55:51  0.00  0.0\n",
      "44358  2018-01-29T03:03:11  0.00  0.0\n",
      "44363  2018-01-29T03:15:25  0.00  0.0\n",
      "44364  2018-01-29T03:17:52  0.00  0.0\n",
      "44366  2018-01-29T03:22:45  0.00  0.0\n",
      "44368  2018-01-29T03:27:39  0.00  0.0\n",
      "44374  2018-01-29T03:42:23  0.00  0.0\n",
      "44391  2018-01-29T04:23:59  0.00  0.0\n",
      "44399  2018-01-29T04:43:34  0.00  0.0\n",
      "44406  2018-01-29T05:00:42  0.00  0.0\n",
      "44415  2018-01-29T05:22:44  0.10  0.0\n",
      "44420  2018-01-29T05:34:59  0.00  0.0\n",
      "44422  2018-01-29T05:39:56  0.00  0.0\n",
      "44423  2018-01-29T05:42:23  0.00  0.0\n",
      "44429  2018-01-29T05:57:04  0.20  0.0\n",
      "44439  2018-01-29T06:21:32  0.00  0.0\n",
      "44440  2018-01-29T06:23:59  0.37  0.0\n",
      "46225  2018-04-22T16:50:06  0.00  0.0\n",
      "46237  2018-04-22T17:19:30  0.00  0.0\n",
      "46244  2018-04-22T17:36:37  0.00  0.0\n",
      "\n",
      "[82 rows x 3 columns]\n"
     ]
    }
   ],
   "source": [
    "print (\"Max P1\")\n",
    "print (max_7789_p1)\n",
    "\n",
    "print (\"\\nMin P1\")\n",
    "print (min_7789_p1)\n",
    "\n",
    "print (\"\\nMax P2\")\n",
    "print (max_7789_p2)\n",
    "\n",
    "print (\"\\nMin P2\")\n",
    "print (min_7789_p2)"
   ]
  },
  {
   "cell_type": "code",
   "execution_count": 16,
   "metadata": {},
   "outputs": [],
   "source": [
    "filtered_7789 = bf_7789_nona_trim[(bf_7789_nona_trim['P1'] > 0) & (bf_7789_nona_trim['P2'] >0)]\n"
   ]
  },
  {
   "cell_type": "code",
   "execution_count": 17,
   "metadata": {},
   "outputs": [
    {
     "name": "stdout",
     "output_type": "stream",
     "text": [
      "((84726, 3), timestamp    [[2018-05-07T00:01:23, 2018-05-07T00:03:50, 20...\n",
      "P1           [[3.17, 2.9, 3.37, 5.37, 5.03, 4.9, 3.0, 5.53,...\n",
      "P2           [[2.6, 2.57, 2.5, 2.77, 2.67, 2.3, 2.53, 2.93,...\n",
      "dtype: object)\n"
     ]
    }
   ],
   "source": [
    "print(rstr(filtered_7789))"
   ]
  },
  {
   "cell_type": "code",
   "execution_count": 18,
   "metadata": {},
   "outputs": [
    {
     "name": "stdout",
     "output_type": "stream",
     "text": [
      "Max P1\n",
      "                 timestamp      P1     P2\n",
      "57134  2018-05-13T06:37:45  620.03  56.43\n",
      "\n",
      "Min P1\n",
      "                 timestamp    P1    P2\n",
      "37484  2017-12-23T03:43:32  0.03  0.03\n",
      "37506  2017-12-23T04:40:17  0.03  0.03\n",
      "37511  2017-12-23T04:52:32  0.03  0.03\n",
      "44346  2018-01-29T02:33:49  0.03  0.03\n",
      "44353  2018-01-29T02:50:56  0.03  0.03\n",
      "44373  2018-01-29T03:39:55  0.03  0.03\n",
      "44414  2018-01-29T05:20:18  0.03  0.03\n",
      "\n",
      "Max P2\n",
      "                 timestamp      P1      P2\n",
      "79347  2018-05-12T16:20:16  493.53  162.03\n",
      "\n",
      "Min P2\n",
      "                 timestamp    P1    P2\n",
      "37484  2017-12-23T03:43:32  0.03  0.03\n",
      "37506  2017-12-23T04:40:17  0.03  0.03\n",
      "37510  2017-12-23T04:50:06  0.27  0.03\n",
      "37511  2017-12-23T04:52:32  0.03  0.03\n",
      "44346  2018-01-29T02:33:49  0.03  0.03\n",
      "44353  2018-01-29T02:50:56  0.03  0.03\n",
      "44373  2018-01-29T03:39:55  0.03  0.03\n",
      "44405  2018-01-29T04:58:15  0.13  0.03\n",
      "44414  2018-01-29T05:20:18  0.03  0.03\n",
      "44416  2018-01-29T05:25:12  1.20  0.03\n"
     ]
    }
   ],
   "source": [
    "max_7789_p1 = filtered_7789[filtered_7789['P1']==filtered_7789['P1'].max()]\n",
    "min_7789_p1 = filtered_7789[filtered_7789['P1']==filtered_7789['P1'].min()]\n",
    "\n",
    "max_7789_p2 = filtered_7789[filtered_7789['P2']==filtered_7789['P2'].max()]\n",
    "min_7789_p2 = filtered_7789[filtered_7789['P2']==filtered_7789['P2'].min()]\n",
    "print (\"Max P1\")\n",
    "print (max_7789_p1)\n",
    "\n",
    "print (\"\\nMin P1\")\n",
    "print (min_7789_p1)\n",
    "\n",
    "print (\"\\nMax P2\")\n",
    "print (max_7789_p2)\n",
    "\n",
    "print (\"\\nMin P2\")\n",
    "print (min_7789_p2)"
   ]
  },
  {
   "cell_type": "code",
   "execution_count": 28,
   "metadata": {},
   "outputs": [],
   "source": [
    "sorted_7789 = filtered_7789.sort_values(['P1', 'P2'], ascending=[0, 0])"
   ]
  },
  {
   "cell_type": "code",
   "execution_count": 29,
   "metadata": {},
   "outputs": [
    {
     "data": {
      "text/html": [
       "<div>\n",
       "<style scoped>\n",
       "    .dataframe tbody tr th:only-of-type {\n",
       "        vertical-align: middle;\n",
       "    }\n",
       "\n",
       "    .dataframe tbody tr th {\n",
       "        vertical-align: top;\n",
       "    }\n",
       "\n",
       "    .dataframe thead th {\n",
       "        text-align: right;\n",
       "    }\n",
       "</style>\n",
       "<table border=\"1\" class=\"dataframe\">\n",
       "  <thead>\n",
       "    <tr style=\"text-align: right;\">\n",
       "      <th></th>\n",
       "      <th>timestamp</th>\n",
       "      <th>P1</th>\n",
       "      <th>P2</th>\n",
       "    </tr>\n",
       "  </thead>\n",
       "  <tbody>\n",
       "    <tr>\n",
       "      <th>57134</th>\n",
       "      <td>2018-05-13T06:37:45</td>\n",
       "      <td>620.03</td>\n",
       "      <td>56.43</td>\n",
       "    </tr>\n",
       "    <tr>\n",
       "      <th>57128</th>\n",
       "      <td>2018-05-13T06:23:05</td>\n",
       "      <td>611.57</td>\n",
       "      <td>47.57</td>\n",
       "    </tr>\n",
       "    <tr>\n",
       "      <th>24303</th>\n",
       "      <td>2018-04-16T07:18:27</td>\n",
       "      <td>590.37</td>\n",
       "      <td>41.07</td>\n",
       "    </tr>\n",
       "    <tr>\n",
       "      <th>57131</th>\n",
       "      <td>2018-05-13T06:30:25</td>\n",
       "      <td>581.87</td>\n",
       "      <td>51.60</td>\n",
       "    </tr>\n",
       "    <tr>\n",
       "      <th>57130</th>\n",
       "      <td>2018-05-13T06:27:58</td>\n",
       "      <td>577.93</td>\n",
       "      <td>50.87</td>\n",
       "    </tr>\n",
       "  </tbody>\n",
       "</table>\n",
       "</div>"
      ],
      "text/plain": [
       "                 timestamp      P1     P2\n",
       "57134  2018-05-13T06:37:45  620.03  56.43\n",
       "57128  2018-05-13T06:23:05  611.57  47.57\n",
       "24303  2018-04-16T07:18:27  590.37  41.07\n",
       "57131  2018-05-13T06:30:25  581.87  51.60\n",
       "57130  2018-05-13T06:27:58  577.93  50.87"
      ]
     },
     "execution_count": 29,
     "metadata": {},
     "output_type": "execute_result"
    }
   ],
   "source": [
    "sorted_7789.head(5)"
   ]
  },
  {
   "cell_type": "code",
   "execution_count": 64,
   "metadata": {},
   "outputs": [
    {
     "data": {
      "text/plain": [
       "<matplotlib.axes._subplots.AxesSubplot at 0x1184294e0>"
      ]
     },
     "execution_count": 64,
     "metadata": {},
     "output_type": "execute_result"
    },
    {
     "data": {
      "image/png": "[encoded data removed]",
      "text/plain": [
       "<matplotlib.figure.Figure at 0x118374128>"
      ]
     },
     "metadata": {},
     "output_type": "display_data"
    }
   ],
   "source": [
    "import matplotlib.mlab as mlab\n",
    "import matplotlib.pyplot as plt\n",
    "p1_count = sorted_7789['P1'].value_counts(ascending=False)\n",
    "\n",
    "#p1_count.plot()\n",
    "p1_count.plot(kind='hist', title = \"Sensor 7789 - Frequency of P1 values\")"
   ]
  },
  {
   "cell_type": "code",
   "execution_count": 89,
   "metadata": {},
   "outputs": [
    {
     "data": {
      "text/plain": [
       "<matplotlib.axes._subplots.AxesSubplot at 0x124c6fe10>"
      ]
     },
     "execution_count": 89,
     "metadata": {},
     "output_type": "execute_result"
    },
    {
     "data": {
      "image/png": "[encoded data removed]",
      "text/plain": [
       "<matplotlib.figure.Figure at 0x124b33160>"
      ]
     },
     "metadata": {},
     "output_type": "display_data"
    }
   ],
   "source": [
    "import matplotlib.mlab as mlab\n",
    "import matplotlib.pyplot as plt\n",
    "p1_count = sorted_7789['P1'].value_counts(ascending=False)\n",
    "p1_count\n",
    "#p1_count.plot()\n",
    "p1_count.plot(kind='hist', figsize = (10,6), title = \"Sensor 7789 - Frequency of P2 values \\n Dec 2017 to May 2018\")"
   ]
  },
  {
   "cell_type": "code",
   "execution_count": 95,
   "metadata": {},
   "outputs": [
    {
     "data": {
      "text/plain": [
       "Text(0,0.5,'Frequency')"
      ]
     },
     "execution_count": 95,
     "metadata": {},
     "output_type": "execute_result"
    },
    {
     "data": {
      "image/png": "[encoded data removed]",
      "text/plain": [
       "<matplotlib.figure.Figure at 0x1242cf518>"
      ]
     },
     "metadata": {},
     "output_type": "display_data"
    }
   ],
   "source": [
    "import matplotlib.pyplot as plt\n",
    "plt.hist(p1_count, bins=50, range=None, density=None, weights=None, cumulative=False, bottom=None, histtype='bar', align='mid', orientation='vertical')\n",
    "plt.suptitle(\"Sensor 7789 - Frequency of P1 values \\n Dec 2017 to May 2018\")\n",
    "plt.xlabel(\"P1 value reading\")\n",
    "plt.ylabel(\"Frequency\")"
   ]
  },
  {
   "cell_type": "code",
   "execution_count": 94,
   "metadata": {},
   "outputs": [
    {
     "data": {
      "text/plain": [
       "Text(0,0.5,'Frequency')"
      ]
     },
     "execution_count": 94,
     "metadata": {},
     "output_type": "execute_result"
    },
    {
     "data": {
      "image/png": "[encoded data removed]",
      "text/plain": [
       "<matplotlib.figure.Figure at 0x1245441d0>"
      ]
     },
     "metadata": {},
     "output_type": "display_data"
    }
   ],
   "source": [
    "p2_count = sorted_7789['P2'].value_counts(ascending=False)\n",
    "plt.hist(p2_count, bins=50, range=None, density=None, weights=None, cumulative=False, bottom=None, histtype='bar', align='mid', orientation='vertical')\n",
    "plt.suptitle(\"Sensor 7789 - Frequency of P2 values \\n Dec 2017 to May 2018\")\n",
    "plt.xlabel(\"P2 value reading\")\n",
    "plt.ylabel(\"Frequency\")"
   ]
  },
  {
   "cell_type": "code",
   "execution_count": null,
   "metadata": {},
   "outputs": [],
   "source": []
  }
 ],
 "metadata": {
  "kernelspec": {
   "display_name": "Python 3",
   "language": "python",
   "name": "python3"
  },
  "language_info": {
   "codemirror_mode": {
    "name": "ipython",
    "version": 3
   },
   "file_extension": ".py",
   "mimetype": "text/x-python",
   "name": "python",
   "nbconvert_exporter": "python",
   "pygments_lexer": "ipython3",
   "version": "3.6.4"
  }
 },
 "nbformat": 4,
 "nbformat_minor": 2
}
